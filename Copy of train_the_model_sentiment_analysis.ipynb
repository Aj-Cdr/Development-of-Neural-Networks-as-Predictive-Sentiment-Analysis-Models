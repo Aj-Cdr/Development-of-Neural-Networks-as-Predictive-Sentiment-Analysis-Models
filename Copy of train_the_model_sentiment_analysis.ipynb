{
 "cells": [
  {
   "cell_type": "markdown",
   "metadata": {
    "id": "3CSw96A6rWsy"
   },
   "source": [
    "## Load the Dataset"
   ]
  },
  {
   "cell_type": "markdown",
   "metadata": {
    "id": "bCJiSzc3rbbi"
   },
   "source": [
    "## Pandas:\n",
    "**Pandas** is an open-source library built on top of Numpy and Matplotlib. It provides high-performance, easy-to-use data structures and data analysis tools.\n",
    "\n",
    "A DataFrame is a two-dimensional data structure, i.e., data is aligned in a tabular fashion in rows and columns. Pandas DataFrame consists of three principal components, the data, rows, and columns.\n",
    "\n",
    "Pandas DataFrame will be created by loading the datasets from existing MS Excel files, CSV files or SQL Database. Pandas DataFrame can also be created from the lists, dictionaries etc.\n"
   ]
  },
  {
   "cell_type": "markdown",
   "metadata": {
    "id": "PbYetMMENj-y"
   },
   "source": [
    "## Use Pandas to display the dataset\n"
   ]
  },
  {
   "cell_type": "code",
   "execution_count": 1,
   "metadata": {
    "colab": {
     "base_uri": "https://localhost:8080/",
     "height": 206
    },
    "executionInfo": {
     "elapsed": 1411,
     "status": "ok",
     "timestamp": 1656651762382,
     "user": {
      "displayName": "Preeti",
      "userId": "02573624957395464494"
     },
     "user_tz": -330
    },
    "id": "DNlWSc7NG1Dl",
    "outputId": "cec5a423-f256-4c8c-84e1-0a9f2617db7c",
    "tags": []
   },
   "outputs": [
    {
     "data": {
      "text/html": [
       "<div>\n",
       "<style scoped>\n",
       "    .dataframe tbody tr th:only-of-type {\n",
       "        vertical-align: middle;\n",
       "    }\n",
       "\n",
       "    .dataframe tbody tr th {\n",
       "        vertical-align: top;\n",
       "    }\n",
       "\n",
       "    .dataframe thead th {\n",
       "        text-align: right;\n",
       "    }\n",
       "</style>\n",
       "<table border=\"1\" class=\"dataframe\">\n",
       "  <thead>\n",
       "    <tr style=\"text-align: right;\">\n",
       "      <th></th>\n",
       "      <th>text</th>\n",
       "      <th>label</th>\n",
       "    </tr>\n",
       "  </thead>\n",
       "  <tbody>\n",
       "    <tr>\n",
       "      <th>0</th>\n",
       "      <td>i feel awful about it too because it s my job ...</td>\n",
       "      <td>sadness</td>\n",
       "    </tr>\n",
       "    <tr>\n",
       "      <th>1</th>\n",
       "      <td>im alone i feel awful</td>\n",
       "      <td>sadness</td>\n",
       "    </tr>\n",
       "    <tr>\n",
       "      <th>2</th>\n",
       "      <td>ive probably mentioned this before but i reall...</td>\n",
       "      <td>joy</td>\n",
       "    </tr>\n",
       "    <tr>\n",
       "      <th>3</th>\n",
       "      <td>i was feeling a little low few days back</td>\n",
       "      <td>sadness</td>\n",
       "    </tr>\n",
       "    <tr>\n",
       "      <th>4</th>\n",
       "      <td>i beleive that i am much more sensitive to oth...</td>\n",
       "      <td>love</td>\n",
       "    </tr>\n",
       "  </tbody>\n",
       "</table>\n",
       "</div>"
      ],
      "text/plain": [
       "                                                text    label\n",
       "0  i feel awful about it too because it s my job ...  sadness\n",
       "1                              im alone i feel awful  sadness\n",
       "2  ive probably mentioned this before but i reall...      joy\n",
       "3           i was feeling a little low few days back  sadness\n",
       "4  i beleive that i am much more sensitive to oth...     love"
      ]
     },
     "execution_count": 1,
     "metadata": {},
     "output_type": "execute_result"
    }
   ],
   "source": [
    "import pandas as pd\n",
    "import matplotlib.pyplot as plt\n",
    "\n",
    "train_data_raw = pd.read_csv(\"emotion_training.csv\")\n",
    " \n",
    "train_data_raw.head()"
   ]
  },
  {
   "cell_type": "code",
   "execution_count": 2,
   "metadata": {},
   "outputs": [
    {
     "data": {
      "text/plain": [
       "<Axes: xlabel='label'>"
      ]
     },
     "execution_count": 2,
     "metadata": {},
     "output_type": "execute_result"
    },
    {
     "data": {
      "image/png": "[encoded data removed]",
      "text/plain": [
       "<Figure size 400x400 with 1 Axes>"
      ]
     },
     "metadata": {},
     "output_type": "display_data"
    }
   ],
   "source": [
    "train_data_raw.label.value_counts().plot(kind='bar', figsize=(4, 4))"
   ]
  },
  {
   "cell_type": "markdown",
   "metadata": {
    "id": "Be49pxjjLTk9"
   },
   "source": [
    "## Giving labels to Emotions"
   ]
  },
  {
   "cell_type": "code",
   "execution_count": null,
   "metadata": {
    "colab": {
     "base_uri": "https://localhost:8080/"
    },
    "executionInfo": {
     "elapsed": 381,
     "status": "ok",
     "timestamp": 1656651787575,
     "user": {
      "displayName": "Preeti",
      "userId": "02573624957395464494"
     },
     "user_tz": -330
    },
    "id": "_SNv_pW-HMXp",
    "outputId": "c5fb4032-4986-4f7d-d7d0-ebc7f78074e7",
    "tags": []
   },
   "outputs": [],
   "source": [
    "train_data_raw[\"label\"].unique()"
   ]
  },
  {
   "cell_type": "code",
   "execution_count": null,
   "metadata": {
    "id": "O6rl4wkbHaqi",
    "tags": []
   },
   "outputs": [],
   "source": [
    "encode_emotions = {\"anger\": 0, \"fear\": 1, \"joy\": 2, \"love\": 3, \"sadness\": 4, \"surprise\": 5}"
   ]
  },
  {
   "cell_type": "code",
   "execution_count": null,
   "metadata": {
    "colab": {
     "base_uri": "https://localhost:8080/",
     "height": 206
    },
    "executionInfo": {
     "elapsed": 577,
     "status": "ok",
     "timestamp": 1656651793391,
     "user": {
      "displayName": "Preeti",
      "userId": "02573624957395464494"
     },
     "user_tz": -330
    },
    "id": "jN_PlSdBH5iT",
    "outputId": "91797227-c384-4b97-d83f-96361ae84a7d",
    "tags": []
   },
   "outputs": [],
   "source": [
    "train_data_raw.replace(encode_emotions, inplace = True)\n",
    "train_data_raw.head()"
   ]
  },
  {
   "cell_type": "markdown",
   "metadata": {
    "id": "jYFaTmaqLgif"
   },
   "source": [
    "## Convert Dataframe to list of dataset"
   ]
  },
  {
   "cell_type": "code",
   "execution_count": null,
   "metadata": {},
   "outputs": [],
   "source": [
    "from sklearn.model_selection import train_test_split\n",
    "\n",
    "train, test = train_test_split(train_data_raw, test_size=0.25)\n",
    "\n",
    "train.reset_index(drop=True, inplace=True)\n",
    "test.reset_index(drop=True, inplace=True)\n",
    "\n",
    "print(\"Train: \", len(train), \"Test: \", len(test))"
   ]
  },
  {
   "cell_type": "code",
   "execution_count": null,
   "metadata": {},
   "outputs": [],
   "source": [
    "train, test"
   ]
  },
  {
   "cell_type": "code",
   "execution_count": null,
   "metadata": {
    "id": "-Wrei71xICG0",
    "tags": []
   },
   "outputs": [],
   "source": [
    "training_sentences = []\n",
    "training_labels = []\n",
    "\n",
    "testing_sentences = []\n",
    "testing_labels = []\n",
    "\n",
    "for i in range(len(train)):\n",
    "\n",
    "  tr_sentence = train.loc[i, \"text\"]\n",
    "  training_sentences.append(tr_sentence)\n",
    "\n",
    "  tr_label = train.loc[i, \"label\"]\n",
    "  training_labels.append(tr_label)\n",
    "    \n",
    "for i in range(len(test)):\n",
    "    \n",
    "  ts_sentence = test.loc[i, \"text\"]\n",
    "  testing_sentences.append(ts_sentence)\n",
    "\n",
    "  ts_label = test.loc[i, \"label\"]\n",
    "  testing_labels.append(ts_label)"
   ]
  },
  {
   "cell_type": "code",
   "execution_count": null,
   "metadata": {},
   "outputs": [],
   "source": [
    "print(\"# of Training Sentences: \", len(training_sentences), \"# of Training Labels: \", len(training_labels))\n",
    "print(\"# of Testing Sentences: \", len(testing_sentences), \"# of Testing Labels: \", len(testing_labels))"
   ]
  },
  {
   "cell_type": "code",
   "execution_count": null,
   "metadata": {
    "tags": []
   },
   "outputs": [],
   "source": [
    "training_sentences = [str (item) for item in training_sentences]\n",
    "testing_sentences = [str (item) for item in testing_sentences]"
   ]
  },
  {
   "cell_type": "code",
   "execution_count": null,
   "metadata": {
    "colab": {
     "base_uri": "https://localhost:8080/"
    },
    "executionInfo": {
     "elapsed": 397,
     "status": "ok",
     "timestamp": 1656651807519,
     "user": {
      "displayName": "Preeti",
      "userId": "02573624957395464494"
     },
     "user_tz": -330
    },
    "id": "G_dXVO41L2nx",
    "outputId": "b28972c2-6cc7-477b-8261-fe763eabf559",
    "tags": []
   },
   "outputs": [],
   "source": [
    "# checking the lists.\n",
    "print('Random Training Sample: ', training_sentences[1], training_labels[1])\n",
    "print('Random Testing Sample: ', testing_sentences[1], testing_labels[1])"
   ]
  },
  {
   "cell_type": "markdown",
   "metadata": {
    "id": "gJWzUQ1bMZfD"
   },
   "source": [
    "## Tokenization & Padding\n",
    "\n",
    "The act of converting text into numbers is known as **Tokenization**. The **Tokenizer** class of Keras is used for encoding text input into integer sequence.\n",
    "\n",
    "**Padding** It is important to make all the sentences contain the same number of words. Zero is used for padding the tokenized sequence to make text contain the same number of tokens.\n"
   ]
  },
  {
   "cell_type": "code",
   "execution_count": null,
   "metadata": {
    "colab": {
     "base_uri": "https://localhost:8080/"
    },
    "executionInfo": {
     "elapsed": 4013,
     "status": "ok",
     "timestamp": 1656651821384,
     "user": {
      "displayName": "Preeti",
      "userId": "02573624957395464494"
     },
     "user_tz": -330
    },
    "id": "1tQMEBbEMSus",
    "outputId": "4c770b71-d8ac-4924-870f-eb17939497df",
    "tags": []
   },
   "outputs": [],
   "source": [
    "#import Tokenizer from tensorflow\n",
    "\n",
    "import tensorflow as tf\n",
    "\n",
    "from tensorflow.keras.preprocessing.text import Tokenizer\n",
    "\n",
    "#Define parameters for Tokenizer\n",
    "\n",
    "vocab_size = 40000\n",
    "embedding_dim = 100\n",
    "oov_tok = \"<OOV>\"\n",
    "training_size = 20000\n",
    "\n",
    "tokenizer = Tokenizer(num_words=vocab_size, oov_token=oov_tok)\n",
    "\n",
    "tokenizer.fit_on_texts(training_sentences)\n",
    "tokenizer.fit_on_texts(testing_sentences)\n",
    "\n",
    "#Create a word_index dictionary\n",
    "\n",
    "word_index = tokenizer.word_index\n",
    "\n",
    "training_sequences = tokenizer.texts_to_sequences(training_sentences)\n",
    "testing_sequences = tokenizer.texts_to_sequences(testing_sentences)"
   ]
  },
  {
   "cell_type": "code",
   "execution_count": null,
   "metadata": {
    "colab": {
     "base_uri": "https://localhost:8080/"
    },
    "executionInfo": {
     "elapsed": 378,
     "status": "ok",
     "timestamp": 1656651858317,
     "user": {
      "displayName": "Preeti",
      "userId": "02573624957395464494"
     },
     "user_tz": -330
    },
    "id": "U9TZiV1ZpMgi",
    "outputId": "e3a211ae-bf9b-4550-c480-b4dbfd6b1bf5",
    "tags": []
   },
   "outputs": [],
   "source": [
    "print('Train Seqs')\n",
    "print(training_sequences[0])\n",
    "print(training_sequences[1])\n",
    "print(training_sequences[2])"
   ]
  },
  {
   "cell_type": "code",
   "execution_count": null,
   "metadata": {},
   "outputs": [],
   "source": [
    "print('Test Seqs')\n",
    "print(testing_sequences[0])\n",
    "print(testing_sequences[1])\n",
    "print(testing_sequences[2])"
   ]
  },
  {
   "cell_type": "code",
   "execution_count": null,
   "metadata": {
    "colab": {
     "base_uri": "https://localhost:8080/"
    },
    "executionInfo": {
     "elapsed": 379,
     "status": "ok",
     "timestamp": 1656651864929,
     "user": {
      "displayName": "Preeti",
      "userId": "02573624957395464494"
     },
     "user_tz": -330
    },
    "id": "uHp-2-ek13xJ",
    "outputId": "298ed8cc-f81e-49b4-a604-80b24cac988b",
    "tags": []
   },
   "outputs": [],
   "source": [
    "#Define parameters for pad_sequences\n",
    "\n",
    "from tensorflow.keras.preprocessing.sequence import pad_sequences\n",
    "\n",
    "padding_type='post'\n",
    "max_length = 100\n",
    "trunc_type='post'\n",
    "\n",
    "\n",
    "training_padded = pad_sequences(training_sequences, maxlen=max_length,\n",
    "                                padding=padding_type, truncating=trunc_type)\n",
    "\n",
    "testing_padded = pad_sequences(testing_sequences, maxlen=max_length,\n",
    "                                padding=padding_type, truncating=trunc_type)\n",
    "\n",
    "training_padded, testing_padded"
   ]
  },
  {
   "cell_type": "markdown",
   "metadata": {
    "id": "hgj_WU8Fw_40"
   },
   "source": [
    "## Converting padded sequences and labels into an Numpy array"
   ]
  },
  {
   "cell_type": "code",
   "execution_count": null,
   "metadata": {
    "id": "U1hpveq7MhIl",
    "tags": []
   },
   "outputs": [],
   "source": [
    "import numpy as np\n",
    "\n",
    "training_padded = np.array(training_padded)\n",
    "training_labels = np.array(training_labels)\n",
    "\n",
    "testing_padded = np.array(testing_padded)\n",
    "testing_labels = np.array(testing_labels)"
   ]
  },
  {
   "cell_type": "markdown",
   "metadata": {
    "id": "vof2NKtVbEE0"
   },
   "source": [
    "## Model Compilation\n"
   ]
  },
  {
   "cell_type": "code",
   "execution_count": null,
   "metadata": {
    "id": "Hzg5BegbMmVM",
    "tags": []
   },
   "outputs": [],
   "source": [
    "from tensorflow.keras.models import Sequential\n",
    "from tensorflow.keras.layers import Embedding, LSTM, Dense\n",
    "from tensorflow.keras.layers import Conv1D, Dropout, MaxPooling1D\n",
    "\n",
    "model = tf.keras.Sequential([\n",
    "        Embedding(vocab_size, embedding_dim, input_length=max_length),\n",
    "        Dropout(0.2),\n",
    "\n",
    "        Conv1D(filters = 256, kernel_size = 3, activation = \"relu\"),\n",
    "        MaxPooling1D(pool_size = 3),\n",
    "\n",
    "        Conv1D(filters = 128, kernel_size = 3, activation = \"relu\"),\n",
    "        MaxPooling1D(pool_size = 3),\n",
    "\n",
    "        LSTM(128),\n",
    "\n",
    "        Dense(128, activation = \"relu\"),\n",
    "        Dropout(0.2),\n",
    "        Dense(64, activation = \"relu\"),\n",
    "        Dense(6, activation = \"softmax\")])\n",
    "\n",
    "model.compile(loss='sparse_categorical_crossentropy',optimizer='adam',metrics=['accuracy'])"
   ]
  },
  {
   "cell_type": "markdown",
   "metadata": {
    "id": "8lU7xEtBbHCG"
   },
   "source": [
    "## Model Summary"
   ]
  },
  {
   "cell_type": "code",
   "execution_count": null,
   "metadata": {
    "colab": {
     "base_uri": "https://localhost:8080/"
    },
    "executionInfo": {
     "elapsed": 397,
     "status": "ok",
     "timestamp": 1656652378075,
     "user": {
      "displayName": "Preeti",
      "userId": "02573624957395464494"
     },
     "user_tz": -330
    },
    "id": "MoZGLFeoMsi4",
    "outputId": "2107f13c-7198-4143-d47e-f08a731b6bed",
    "tags": []
   },
   "outputs": [],
   "source": [
    "model.summary()"
   ]
  },
  {
   "cell_type": "markdown",
   "metadata": {
    "id": "wIxnYVJpbNP_"
   },
   "source": [
    "## Train Model"
   ]
  },
  {
   "cell_type": "code",
   "execution_count": null,
   "metadata": {
    "tags": []
   },
   "outputs": [],
   "source": [
    "import tensorflow as tf\n",
    "print(\"Num GPUs Available: \", len(tf.config.experimental.list_physical_devices('GPU')))"
   ]
  },
  {
   "cell_type": "code",
   "execution_count": null,
   "metadata": {
    "tags": []
   },
   "outputs": [],
   "source": [
    "from tensorflow.keras.callbacks import EarlyStopping"
   ]
  },
  {
   "cell_type": "code",
   "execution_count": null,
   "metadata": {
    "colab": {
     "base_uri": "https://localhost:8080/"
    },
    "executionInfo": {
     "elapsed": 593772,
     "status": "ok",
     "timestamp": 1656653344231,
     "user": {
      "displayName": "Preeti",
      "userId": "02573624957395464494"
     },
     "user_tz": -330
    },
    "id": "DU9lT-hjMwQq",
    "outputId": "b71feb98-5adb-42d6-ad17-2bf8e3284676",
    "tags": []
   },
   "outputs": [],
   "source": [
    "num_epochs = 10\n",
    "early_stopping = EarlyStopping(monitor='loss', patience=3, restore_best_weights=True)\n",
    "history = model.fit(training_padded, training_labels, epochs=num_epochs, verbose=1, callbacks=[early_stopping])"
   ]
  },
  {
   "cell_type": "code",
   "execution_count": null,
   "metadata": {},
   "outputs": [],
   "source": [
    "print(\"Evaluation on test data\")\n",
    "loss, accuracy = model.evaluate(testing_padded, testing_labels)\n",
    "print(\"test loss: \", loss, \"test accuracy: \", accuracy)"
   ]
  },
  {
   "cell_type": "markdown",
   "metadata": {
    "id": "GGHKlOKX0Uw1"
   },
   "source": [
    "## Test the model"
   ]
  },
  {
   "cell_type": "code",
   "execution_count": null,
   "metadata": {
    "colab": {
     "base_uri": "https://localhost:8080/"
    },
    "executionInfo": {
     "elapsed": 381,
     "status": "ok",
     "timestamp": 1656653396534,
     "user": {
      "displayName": "Preeti",
      "userId": "02573624957395464494"
     },
     "user_tz": -330
    },
    "id": "oCaTAbnhQj6H",
    "outputId": "413fe7aa-8e00-4e4f-dff6-a8cb0876a46a"
   },
   "outputs": [],
   "source": [
    "sentence = [\"I am happy to meet my friends.\",\n",
    "            \"I had a bad day at school.\"]\n",
    "\n",
    "sequences = tokenizer.texts_to_sequences(sentence)\n",
    "\n",
    "padded = pad_sequences(sequences, maxlen=max_length,\n",
    "                       padding=padding_type, truncating=trunc_type)\n",
    " \n",
    "result=model.predict(padded)\n",
    "\n",
    "predict_class = np.argmax(result, axis=1)\n",
    "predict_class\n",
    "\n",
    "emotion_labels = {0: \"anger\", 1: \"fear\", 2: \"joy\", 3: \"love\", 4: \"sadness\", 5: \"surprise\"}\n",
    "predicted_emotions = [emotion_labels[class_index] for class_index in predict_class]\n",
    "\n",
    "# Display the predicted emotions for each sentence\n",
    "for i, emotion in enumerate(predicted_emotions):\n",
    "    print(f\"Sentence {i+1}: Predicted Emotion - {emotion}\")"
   ]
  },
  {
   "cell_type": "code",
   "execution_count": null,
   "metadata": {},
   "outputs": [],
   "source": [
    "model.save('Emotion_AI_Classifier.h5')"
   ]
  },
  {
   "cell_type": "code",
   "execution_count": null,
   "metadata": {},
   "outputs": [],
   "source": []
  }
 ],
 "metadata": {
  "colab": {
   "provenance": [
    {
     "file_id": "1g6_Peqf2J5XK1HM4Zxk59XAVsJslJR5k",
     "timestamp": 1699132404482
    },
    {
     "file_id": "1-kuwdZlqnczX1aSsFICzAt1BC2g7P6H2",
     "timestamp": 1699132269354
    },
    {
     "file_id": "1-XnOC4oGfKqDT6HGdA1guosGMlO6QWkT",
     "timestamp": 1640272766464
    }
   ]
  },
  "kernelspec": {
   "display_name": "Python 3 (ipykernel)",
   "language": "python",
   "name": "python3"
  },
  "language_info": {
   "codemirror_mode": {
    "name": "ipython",
    "version": 3
   },
   "file_extension": ".py",
   "mimetype": "text/x-python",
   "name": "python",
   "nbconvert_exporter": "python",
   "pygments_lexer": "ipython3",
   "version": "3.10.13"
  }
 },
 "nbformat": 4,
 "nbformat_minor": 4
}
